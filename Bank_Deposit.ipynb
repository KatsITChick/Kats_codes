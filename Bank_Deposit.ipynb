{
  "nbformat": 4,
  "nbformat_minor": 0,
  "metadata": {
    "colab": {
      "provenance": []
    },
    "kernelspec": {
      "name": "python3",
      "display_name": "Python 3"
    },
    "language_info": {
      "name": "python"
    }
  },
  "cells": [
    {
      "cell_type": "markdown",
      "source": [
        "1. Welcome the user to the bank\n",
        "2. Initiate balance = 0\n",
        "\n",
        "   print(\"\\nWhat would you like to do?\")\n",
        "   print(\"1. Deposit money\")\n",
        "   print(\"2. Withdraw money\")\n",
        "   print(\"3. Check balance\")\n",
        "   print(\"4. Exit\")\n",
        "\n",
        "   \n",
        "3. Ask the user to input the amount of money they want to deposit.\n",
        "4. Add the deposit amount to the total balance\n",
        "5. Ask the user if they want to make another deposit or exit the bank.\n",
        "6. If they choose to make another deposit, repeat the process (while True).\n",
        "7. If not, print the total amount deposited and exit the bank.\n",
        "8. Use `try` and `except` to handle non-integer inputs for deposits.\n",
        "9. Add bank withdrawal (if user wants to withdraw money the balance decreases)\n",
        "10. If the balance becomes negative, withdrawal is not possible.\n",
        "11. Add check balance optionality\n",
        "Example:\n"
      ],
      "metadata": {
        "id": "kZ38vvm2D6Bf"
      }
    },
    {
      "cell_type": "code",
      "source": [
        "print(\"Welcome to Kats's Bank!\")\n",
        "balance = 0\n",
        "\n",
        "while True:\n",
        "    print(\"\\nWhat would you like to do?\")\n",
        "    print(\"1. Deposit money\")\n",
        "    print(\"2. Withdraw money\")\n",
        "    print(\"3. Check balance\")\n",
        "    print(\"4. Exit\")\n",
        "\n",
        "    choice = input(\"Please choose 1-4: \")\n",
        "\n",
        "    if choice == '1':\n",
        "        while True:\n",
        "            try:\n",
        "                deposit = int(input(\"How much you want to deposit: \"))\n",
        "                if deposit < 0:\n",
        "                    print(\"Deposit amount cannot be negative. Try again.\")\n",
        "                else:\n",
        "                    balance = balance + deposit\n",
        "                    print(f\"{deposit} EUR deposited. Your balance is {balance} EUR.\")\n",
        "                    break\n",
        "            except ValueError:\n",
        "                print(\"Invalid input. Please enter a valid amount.\")\n",
        "\n",
        "    elif choice == '2':\n",
        "        while True:\n",
        "            try:\n",
        "                withdraw = int(input(\"How much you want to withdraw: \"))\n",
        "                if withdraw < 0:\n",
        "                    print(\"Withdrawal amount cannot be negative. Try again.\")\n",
        "                elif withdraw > balance:\n",
        "                    print(\"Insufficient funds. Your current balance is {balance} EUR. Try a smaller amount.\")\n",
        "                else:\n",
        "                    balance = balance - withdraw\n",
        "                    print(f\"{withdraw} EUR withdrawn. Your balance is {balance} EUR.\")\n",
        "                    break\n",
        "            except ValueError:\n",
        "                print(\"Invalid input. Please enter a valid amount.\")\n",
        "\n",
        "    elif choice == '3':\n",
        "        print(f\"Your balance is {balance} EUR.\")\n",
        "\n",
        "    elif choice == '4':\n",
        "        print(f\"Thank you for using Kats's bank.\")\n",
        "        break\n",
        "\n",
        "    else:\n",
        "        print(\"Invalid choice. Please enter a number between 1 and 4.\")"
      ],
      "metadata": {
        "colab": {
          "base_uri": "https://localhost:8080/"
        },
        "id": "LrLnwtNyLbwX",
        "outputId": "107ffac3-6305-4a1c-9a71-662972422c4d"
      },
      "execution_count": 3,
      "outputs": [
        {
          "output_type": "stream",
          "name": "stdout",
          "text": [
            "Welcome to Kats's Bank!\n",
            "\n",
            "What would you like to do?\n",
            "1. Deposit money\n",
            "2. Withdraw money\n",
            "3. Check balance\n",
            "4. Exit\n",
            "Please enter your choice (1-4): 1\n",
            "How much you want to deposit: 60\n",
            "60 EUR deposited. Your 3balance is 60 EUR.\n",
            "\n",
            "What would you like to do?\n",
            "1. Deposit money\n",
            "2. Withdraw money\n",
            "3. Check balance\n",
            "4. Exit\n",
            "Please enter your choice (1-4): 2\n",
            "How much you want to withdraw: 3\n",
            "3 EUR withdrawn. Your balance is 57 EUR.\n",
            "\n",
            "What would you like to do?\n",
            "1. Deposit money\n",
            "2. Withdraw money\n",
            "3. Check balance\n",
            "4. Exit\n",
            "Please enter your choice (1-4): 3\n",
            "Your balance is 57 EUR.\n",
            "\n",
            "What would you like to do?\n",
            "1. Deposit money\n",
            "2. Withdraw money\n",
            "3. Check balance\n",
            "4. Exit\n",
            "Please enter your choice (1-4): 6\n",
            "Invalid choice. Please enter a number between 1 and 4.\n",
            "\n",
            "What would you like to do?\n",
            "1. Deposit money\n",
            "2. Withdraw money\n",
            "3. Check balance\n",
            "4. Exit\n",
            "Please enter your choice (1-4): 4\n",
            "Thank you for using Kats's bank.\n"
          ]
        }
      ]
    }
  ]
}
